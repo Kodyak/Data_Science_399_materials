{
 "cells": [
  {
   "cell_type": "code",
   "execution_count": 1,
   "metadata": {},
   "outputs": [
    {
     "data": {
      "text/html": [
       "<style>\n",
       ".h1_cell, .just_text {\n",
       "    box-sizing: border-box;\n",
       "    padding-top:5px;\n",
       "    padding-bottom:5px;\n",
       "    font-family: \"Times New Roman\", Georgia, Serif;\n",
       "    font-size: 125%;\n",
       "    line-height: 22px; /* 5px +12px + 5px */\n",
       "    text-indent: 25px;\n",
       "    background-color: #fbfbea;\n",
       "    padding: 10px;\n",
       "}\n",
       "\n",
       "hr { \n",
       "    display: block;\n",
       "    margin-top: 0.5em;\n",
       "    margin-bottom: 0.5em;\n",
       "    margin-left: auto;\n",
       "    margin-right: auto;\n",
       "    border-style: inset;\n",
       "    border-width: 2px;\n",
       "}\n",
       "</style>"
      ],
      "text/plain": [
       "<IPython.core.display.HTML object>"
      ]
     },
     "metadata": {},
     "output_type": "display_data"
    }
   ],
   "source": [
    "%%html\n",
    "<style>\n",
    ".h1_cell, .just_text {\n",
    "    box-sizing: border-box;\n",
    "    padding-top:5px;\n",
    "    padding-bottom:5px;\n",
    "    font-family: \"Times New Roman\", Georgia, Serif;\n",
    "    font-size: 125%;\n",
    "    line-height: 22px; /* 5px +12px + 5px */\n",
    "    text-indent: 25px;\n",
    "    background-color: #fbfbea;\n",
    "    padding: 10px;\n",
    "}\n",
    "\n",
    "hr { \n",
    "    display: block;\n",
    "    margin-top: 0.5em;\n",
    "    margin-bottom: 0.5em;\n",
    "    margin-left: auto;\n",
    "    margin-right: auto;\n",
    "    border-style: inset;\n",
    "    border-width: 2px;\n",
    "}\n",
    "</style>"
   ]
  },
  {
   "cell_type": "markdown",
   "metadata": {},
   "source": [
    "\n",
    "<center>\n",
    "<h1>Module 0: Topics in Data Science</h1>\n",
    "</center>\n",
    "<p>\n",
    "<div class=h1_cell>\n",
    "\n",
    "<p>This quarter, we will focus on the topic of text analytics. Professor Dou and I, along with an army of graduate students, have been working on a specific research question in the text analytics area: if we ask a college student to write a short summary of their weekly reading (the text part), can we (the computer) spot misconceptions/misunderstandings (the analytics part)? I can give you the punch line: it is not easy! We are now into our 4th year on this project.\n",
    "<p>\n",
    "There are two basic approaches to analyzing text. Alternative 1 I'll call knowledge-based. It attempts to use human knowledge of linguistics, sentence structure, word meaning to analyze a piece of text. This is a time-honored approach dating back to the very start of AI in the 1960s. And it is this approach we are using currently for our misconception analysis.\n",
    "<p>The second approach is the new kid on the block. It is statistical and even alien in some ways. There is no attempt to use the knowledge-based approach. Instead, we turn text (words) into data that reflect complicated relationships with each other. We end up with vectors in hundreds and more typically thousands of dimensions. And what analytics method is good at analyzing huge amounts of numeric data? Yep, machine learning and deep learning in particular. So we turn the study of linguistics, creative writing and human communication into big number crunching.\n",
    "<p>\n",
    "I hope this stirs you a bit to say \"Yes, AI conquers all!\" or \"You've now gone too far.\" What I would like to do in this course is at least delve into some intro pieces of the statistical approach. You don't have to agree with the approach. But you should have knowledge of how it works. Given time, we might work in some modules on the knowledge-based approach.\n",
    "</div>"
   ]
  },
  {
   "cell_type": "markdown",
   "metadata": {},
   "source": [
    "<hr>\n",
    "<h1>\n",
    "There are lots of NLP topics\n",
    "</h1>\n",
    "<div class=h1_cell>\n",
    "<p>\n",
    "I told you I work with Professor Dou on an essay-grading project. I also work with Professor Heidi Kaufman in the English Department. She and I are interested in analyzing 19th century Gothic novels (think Frankenstein, Dracula). More than that, we are interested in *generating* new novels. Deep learning has opened up a new field of creative writing by computer.\n",
    "<p>\n",
    "To give you another example ripped from the headlines, Facebook and others are trying to use NLP techniques to root out fake-news and trolling. It's a good time to be in the text analytics field.\n",
    "<p>\n",
    "</div>"
   ]
  },
  {
   "cell_type": "markdown",
   "metadata": {},
   "source": [
    "<hr>\n",
    "<h1>\n",
    "Course caveats\n",
    "</h1>\n",
    "<div class=h1_cell>\n",
    "<p>\n",
    "This is a pilot course. And really a joint exploration of many of the topics: we will be exploring them together. I chose to look at NLP and deep learning because I want to know more about it. Perhaps it is a better method for the misconception problem we have been working on for 4 years, who knows. Given all this, I cannot promise a polished syllabus. Nor a smooth set of modules that each have just the right amount of content and homework. I'll do my best but it could be bumpy. I had to laugh when a student asked me if they could see my detailed syllabus for the class. I said \"Uh, no. I barely was able to get the course blurb together!\"\n",
    "<p>\n",
    "This course will be taught again next year and much more polished so that might be an option for you.\n",
    "<p>\n",
    "Also note that the course is heading for a purely web-based version in the future. To move in that direction, I will not be holding in-class lectures. Instead, I'll use our class time for office hours.\n",
    "<p>\n",
    "\n",
    "\n",
    "</div>"
   ]
  },
  {
   "cell_type": "markdown",
   "metadata": {},
   "source": [
    "<hr>\n",
    "<h1>\n",
    "Jupyter notebooks\n",
    "</h1>\n",
    "<div class=h1_cell>\n",
    "<p>\n",
    "I love jupyter notebooks. I think they are simple but revolutionary in terms of doing data science. What you are reading is a jupyter notebook. I'll do a little coding to show you. I'll bring in a dataset from the Titanic passenger list and display the first 5 rows. I'll meet you again down past the three code cells.\n",
    "</div>"
   ]
  },
  {
   "cell_type": "code",
   "execution_count": 2,
   "metadata": {
    "collapsed": true
   },
   "outputs": [],
   "source": [
    "import pandas as pd\n",
    "url = 'https://docs.google.com/spreadsheets/d/1z1ycUZjJpmMWB4gXbhwRQ9B_qa42CwzAQkf82mLibxI/pub?output=csv'\n",
    "titanic_table = pd.read_csv(url)"
   ]
  },
  {
   "cell_type": "code",
   "execution_count": 3,
   "metadata": {
    "collapsed": true
   },
   "outputs": [],
   "source": [
    "#I am setting the option to see all the columns of our table as we build it, i.e., it has no max.\n",
    "pd.set_option('display.max_columns', None)"
   ]
  },
  {
   "cell_type": "code",
   "execution_count": 4,
   "metadata": {},
   "outputs": [
    {
     "data": {
      "text/html": [
       "<div>\n",
       "<style>\n",
       "    .dataframe thead tr:only-child th {\n",
       "        text-align: right;\n",
       "    }\n",
       "\n",
       "    .dataframe thead th {\n",
       "        text-align: left;\n",
       "    }\n",
       "\n",
       "    .dataframe tbody tr th {\n",
       "        vertical-align: top;\n",
       "    }\n",
       "</style>\n",
       "<table border=\"1\" class=\"dataframe\">\n",
       "  <thead>\n",
       "    <tr style=\"text-align: right;\">\n",
       "      <th></th>\n",
       "      <th>PassengerId</th>\n",
       "      <th>Survived</th>\n",
       "      <th>Pclass</th>\n",
       "      <th>Name</th>\n",
       "      <th>Sex</th>\n",
       "      <th>Age</th>\n",
       "      <th>SibSp</th>\n",
       "      <th>Parch</th>\n",
       "      <th>Ticket</th>\n",
       "      <th>Fare</th>\n",
       "      <th>Cabin</th>\n",
       "      <th>Embarked</th>\n",
       "    </tr>\n",
       "  </thead>\n",
       "  <tbody>\n",
       "    <tr>\n",
       "      <th>0</th>\n",
       "      <td>1</td>\n",
       "      <td>0</td>\n",
       "      <td>3</td>\n",
       "      <td>Braund, Mr. Owen Harris</td>\n",
       "      <td>male</td>\n",
       "      <td>22.0</td>\n",
       "      <td>1</td>\n",
       "      <td>0</td>\n",
       "      <td>A/5 21171</td>\n",
       "      <td>7.2500</td>\n",
       "      <td>NaN</td>\n",
       "      <td>S</td>\n",
       "    </tr>\n",
       "    <tr>\n",
       "      <th>1</th>\n",
       "      <td>2</td>\n",
       "      <td>1</td>\n",
       "      <td>1</td>\n",
       "      <td>Cumings, Mrs. John Bradley (Florence Briggs Th...</td>\n",
       "      <td>female</td>\n",
       "      <td>38.0</td>\n",
       "      <td>1</td>\n",
       "      <td>0</td>\n",
       "      <td>PC 17599</td>\n",
       "      <td>71.2833</td>\n",
       "      <td>C85</td>\n",
       "      <td>C</td>\n",
       "    </tr>\n",
       "    <tr>\n",
       "      <th>2</th>\n",
       "      <td>3</td>\n",
       "      <td>1</td>\n",
       "      <td>3</td>\n",
       "      <td>Heikkinen, Miss. Laina</td>\n",
       "      <td>female</td>\n",
       "      <td>26.0</td>\n",
       "      <td>0</td>\n",
       "      <td>0</td>\n",
       "      <td>STON/O2. 3101282</td>\n",
       "      <td>7.9250</td>\n",
       "      <td>NaN</td>\n",
       "      <td>S</td>\n",
       "    </tr>\n",
       "    <tr>\n",
       "      <th>3</th>\n",
       "      <td>4</td>\n",
       "      <td>1</td>\n",
       "      <td>1</td>\n",
       "      <td>Futrelle, Mrs. Jacques Heath (Lily May Peel)</td>\n",
       "      <td>female</td>\n",
       "      <td>35.0</td>\n",
       "      <td>1</td>\n",
       "      <td>0</td>\n",
       "      <td>113803</td>\n",
       "      <td>53.1000</td>\n",
       "      <td>C123</td>\n",
       "      <td>S</td>\n",
       "    </tr>\n",
       "    <tr>\n",
       "      <th>4</th>\n",
       "      <td>5</td>\n",
       "      <td>0</td>\n",
       "      <td>3</td>\n",
       "      <td>Allen, Mr. William Henry</td>\n",
       "      <td>male</td>\n",
       "      <td>35.0</td>\n",
       "      <td>0</td>\n",
       "      <td>0</td>\n",
       "      <td>373450</td>\n",
       "      <td>8.0500</td>\n",
       "      <td>NaN</td>\n",
       "      <td>S</td>\n",
       "    </tr>\n",
       "  </tbody>\n",
       "</table>\n",
       "</div>"
      ],
      "text/plain": [
       "   PassengerId  Survived  Pclass  \\\n",
       "0            1         0       3   \n",
       "1            2         1       1   \n",
       "2            3         1       3   \n",
       "3            4         1       1   \n",
       "4            5         0       3   \n",
       "\n",
       "                                                Name     Sex   Age  SibSp  \\\n",
       "0                            Braund, Mr. Owen Harris    male  22.0      1   \n",
       "1  Cumings, Mrs. John Bradley (Florence Briggs Th...  female  38.0      1   \n",
       "2                             Heikkinen, Miss. Laina  female  26.0      0   \n",
       "3       Futrelle, Mrs. Jacques Heath (Lily May Peel)  female  35.0      1   \n",
       "4                           Allen, Mr. William Henry    male  35.0      0   \n",
       "\n",
       "   Parch            Ticket     Fare Cabin Embarked  \n",
       "0      0         A/5 21171   7.2500   NaN        S  \n",
       "1      0          PC 17599  71.2833   C85        C  \n",
       "2      0  STON/O2. 3101282   7.9250   NaN        S  \n",
       "3      0            113803  53.1000  C123        S  \n",
       "4      0            373450   8.0500   NaN        S  "
      ]
     },
     "execution_count": 4,
     "metadata": {},
     "output_type": "execute_result"
    }
   ],
   "source": [
    "titanic_table.head()"
   ]
  },
  {
   "cell_type": "code",
   "execution_count": 5,
   "metadata": {},
   "outputs": [
    {
     "data": {
      "text/plain": [
       "891"
      ]
     },
     "execution_count": 5,
     "metadata": {},
     "output_type": "execute_result"
    }
   ],
   "source": [
    "len(titanic_table)"
   ]
  },
  {
   "cell_type": "markdown",
   "metadata": {},
   "source": [
    "<div class=h1_cell>\n",
    "<p>\n",
    "Cool, huh. I can mix text (markdown and html) with runnable code. There is an html cell at the very top of the notebook that allows me to tailor how things show up. You can change this to whatever you like. All of the course content will be presented as jupyter notebooks.\n",
    "<p>\n",
    "You are viewing this because I translated my notebook into html. Downside is that you cannot run my code from the html version. To do that, you can download this notebook to your own computer and make sure you keep the .ipynb suffix. Then I recommend downloading anaconda, which contains the jupyter notebook server along with lots of useful data science packages.\n",
    "<p>\n",
    "Another caveat: I am using Python 2.7, somewhat reluctantly. I have yet to convince myself that all the packages we will be using are stable in 3.6. However, when you donwlaod anaconda, you may choose 2.7 but actually 3.6 will come along with it. You can follow directions on the web for setting up environments (activations) for both. And the cool thing is that I have my jupyter environment set up so I can switch between 2.7 and 3.6 for this notebook, right now, by going up to the kernel tab and changing the kernel. Pretty slick.\n",
    "<p>\n",
    "<img src='https://www.dropbox.com/s/mp4ciyr8io7krpt/kernels.png?raw=1'>\n",
    "<div>"
   ]
  }
 ],
 "metadata": {
  "kernelspec": {
   "display_name": "Python 2",
   "language": "python",
   "name": "python2"
  },
  "language_info": {
   "codemirror_mode": {
    "name": "ipython",
    "version": 2
   },
   "file_extension": ".py",
   "mimetype": "text/x-python",
   "name": "python",
   "nbconvert_exporter": "python",
   "pygments_lexer": "ipython2",
   "version": "2.7.14"
  }
 },
 "nbformat": 4,
 "nbformat_minor": 1
}
